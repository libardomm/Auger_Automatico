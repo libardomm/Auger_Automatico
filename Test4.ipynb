{
 "cells": [
  {
   "cell_type": "markdown",
   "metadata": {},
   "source": [
    "# Desarrollo de modelos predictivos para la estimación de la temperatura superficial de los detectores del observatorio Pierre Auger\n",
    "\n",
    "\n"
   ]
  },
  {
   "cell_type": "markdown",
   "metadata": {},
   "source": [
    "##  ** 1. Preparación de Datos **"
   ]
  },
  {
   "cell_type": "code",
   "execution_count": 1,
   "metadata": {
    "collapsed": true
   },
   "outputs": [],
   "source": [
    "import pandas as pd\n",
    "import numpy as np\n",
    "pd.set_option('display.max_columns', None)\n",
    "pd.set_option('display.max_rows', 20)\n"
   ]
  },
  {
   "cell_type": "markdown",
   "metadata": {},
   "source": [
    "**Definir nombres de las columnas que se van a usar y  la lista en la cual se van almacenar los dias de datos que se van a usar.**"
   ]
  },
  {
   "cell_type": "code",
   "execution_count": 2,
   "metadata": {
    "collapsed": true
   },
   "outputs": [],
   "source": [
    "nombres2=['fLsId', 'fTime', 'fPMT[0]', 'fPMT[1]', 'fPMT[2]', 'fElectT',\n",
    "       'fBatteryT[0]', 'fBatteryT[1]'] \n",
    "dias=[]"
   ]
  },
  {
   "cell_type": "markdown",
   "metadata": {},
   "source": [
    "**Cargar los dias de datos necesarios**"
   ]
  },
  {
   "cell_type": "code",
   "execution_count": 3,
   "metadata": {
    "collapsed": true
   },
   "outputs": [],
   "source": [
    "dias.append(pd.read_csv(\"./0000mc_2014_05_01_00h00.root\", header=None, names=nombres2, sep=\" \", usecols=[0,1,14,15,16,17,18,19 ],index_col=1 ))"
   ]
  },
  {
   "cell_type": "code",
   "execution_count": 4,
   "metadata": {
    "collapsed": true
   },
   "outputs": [],
   "source": [
    "dias.append(pd.read_csv(\"./0000mc_2014_05_02_00h00.root\", header=None, names=nombres2, sep=\" \", usecols=[0,1,14,15,16,17,18,19 ],index_col=1 ))"
   ]
  },
  {
   "cell_type": "code",
   "execution_count": 5,
   "metadata": {
    "collapsed": true
   },
   "outputs": [],
   "source": [
    "dias.append(pd.read_csv(\"./0000mc_2014_05_03_00h00.root\", header=None, names=nombres2, sep=\" \", usecols=[0,1,14,15,16,17,18,19 ],index_col=1 ))"
   ]
  },
  {
   "cell_type": "code",
   "execution_count": 6,
   "metadata": {
    "collapsed": true
   },
   "outputs": [],
   "source": [
    "dias.append(pd.read_csv(\"./0000mc_2014_05_04_00h00.root\", header=None, names=nombres2, sep=\" \", usecols=[0,1,14,15,16,17,18,19 ],index_col=1 ))"
   ]
  },
  {
   "cell_type": "code",
   "execution_count": 7,
   "metadata": {
    "collapsed": true
   },
   "outputs": [],
   "source": [
    "dias.append(pd.read_csv(\"./0000mc_2014_05_05_00h00.root\", header=None, names=nombres2, sep=\" \", usecols=[0,1,14,15,16,17,18,19 ],index_col=1 ))"
   ]
  },
  {
   "cell_type": "code",
   "execution_count": 8,
   "metadata": {
    "collapsed": true
   },
   "outputs": [],
   "source": [
    "dias.append(pd.read_csv(\"./0000mc_2014_05_07_00h00.root\", header=None, names=nombres2, sep=\" \", usecols=[0,1,14,15,16,17,18,19 ],index_col=1 ))"
   ]
  },
  {
   "cell_type": "code",
   "execution_count": 9,
   "metadata": {
    "collapsed": true
   },
   "outputs": [],
   "source": [
    "dias.append(pd.read_csv(\"./0000mc_2014_05_08_00h00.root\", header=None, names=nombres2, sep=\" \", usecols=[0,1,14,15,16,17,18,19 ],index_col=1 ))"
   ]
  },
  {
   "cell_type": "code",
   "execution_count": 10,
   "metadata": {
    "collapsed": true
   },
   "outputs": [],
   "source": [
    "dias.append(pd.read_csv(\"./0000mc_2014_05_09_00h00.root\", header=None, names=nombres2, sep=\" \", usecols=[0,1,14,15,16,17,18,19 ],index_col=1 ))"
   ]
  },
  {
   "cell_type": "code",
   "execution_count": 11,
   "metadata": {
    "collapsed": true
   },
   "outputs": [],
   "source": [
    "dias.append(pd.read_csv(\"./0000mc_2014_05_10_00h00.root\", header=None, names=nombres2, sep=\" \", usecols=[0,1,14,15,16,17,18,19 ],index_col=1 ))"
   ]
  },
  {
   "cell_type": "code",
   "execution_count": 12,
   "metadata": {
    "collapsed": true
   },
   "outputs": [],
   "source": [
    "dias.append(pd.read_csv(\"./0000mc_2014_05_11_00h00.root\", header=None, names=nombres2, sep=\" \", usecols=[0,1,14,15,16,17,18,19 ],index_col=1 ))"
   ]
  },
  {
   "cell_type": "markdown",
   "metadata": {},
   "source": [
    "**Esta funcion permite seleccionar todos los registros en cada uno de los 19 detectores mas cercanos a una determinada estacion.La funcion retorna una lista de listas de dataframes **"
   ]
  },
  {
   "cell_type": "code",
   "execution_count": 13,
   "metadata": {
    "collapsed": true,
    "scrolled": true
   },
   "outputs": [],
   "source": [
    "\n",
    "listaLosleones=[\"321\",\"322\",\"346\", \"360\", \"361\", \"364\", \"367\", \"378\", \"379\", \"383\", \"384\", \"385\",\n",
    " \"387\", \"427\", \"429\", \"431\", \"432\", \"433\",\"440\"]\n",
    "\n",
    "listaLosmorados=[\"883\", \"673\", \"763\", \"874\" ,\"876\" ,\"877\", \"878\", \"879\", \"880\",\"881\",\"882\",\"884\" ,\n",
    "                 \"885\",\"886\",\"887\",\"888\",\"892\",\"893\",\"894\"]\n",
    "\n",
    "listaLomaAmarilla=[\"1501\", \"1098\", \"1099\", \"1101\", \"1102\", \"1103\", \"1104\" ,\"1105\", \"1107\", \"1108\",\n",
    "                   \"1109\",\"1115\", \"1116\", \"1117\", \"1118\", \"1119\", \"1120\", \"1126\", \"1164\"]\n",
    "\n",
    "listaCoihueco=[\"1827\",\"1833\", \"1829\",\"1831\", \"583\", \"601\", \"605\", \"607\", \"608\",\n",
    " \"609\", \"615\", \"786\", \"787\", \"1625\", \"1627\", \"1788\", \"1790\", \"1832\",\"1847\"]\n",
    "\n",
    "def seleccionadordeDetectores(listadeDetectores):\n",
    "    listaDias =  [[] for key in listadeDetectores]\n",
    "    for df in dias:\n",
    "        df.index=pd.to_datetime(df.index,unit=\"s\")\n",
    "        listaDias[0].append(df[df.fLsId==int(listadeDetectores[0])])\n",
    "        listaDias[1].append(df[df.fLsId==int(listadeDetectores[1])])\n",
    "        listaDias[2].append(df[df.fLsId==int(listadeDetectores[2])])\n",
    "        listaDias[3].append(df[df.fLsId==int(listadeDetectores[3])])\n",
    "        listaDias[4].append(df[df.fLsId==int(listadeDetectores[4])])\n",
    "        listaDias[5].append(df[df.fLsId==int(listadeDetectores[5])])\n",
    "        listaDias[6].append(df[df.fLsId==int(listadeDetectores[6])])\n",
    "        listaDias[7].append(df[df.fLsId==int(listadeDetectores[7])])\n",
    "        listaDias[8].append(df[df.fLsId==int(listadeDetectores[8])])\n",
    "        listaDias[9].append(df[df.fLsId==int(listadeDetectores[9])])\n",
    "        listaDias[10].append(df[df.fLsId==int(listadeDetectores[10])])\n",
    "        listaDias[11].append(df[df.fLsId==int(listadeDetectores[11])])\n",
    "        listaDias[12].append(df[df.fLsId==int(listadeDetectores[12])])\n",
    "        listaDias[13].append(df[df.fLsId==int(listadeDetectores[13])])\n",
    "        listaDias[14].append(df[df.fLsId==int(listadeDetectores[14])])\n",
    "        listaDias[15].append(df[df.fLsId==int(listadeDetectores[15])])\n",
    "        listaDias[16].append(df[df.fLsId==int(listadeDetectores[16])])\n",
    "        listaDias[17].append(df[df.fLsId==int(listadeDetectores[17])])\n",
    "        listaDias[18].append(df[df.fLsId==int(listadeDetectores[18])])\n",
    "    return listaDias"
   ]
  },
  {
   "cell_type": "code",
   "execution_count": 14,
   "metadata": {
    "collapsed": true
   },
   "outputs": [],
   "source": [
    "diasLosLeones=seleccionadordeDetectores(listaLosleones)\n",
    "diasLosMorados=seleccionadordeDetectores(listaLosmorados)\n",
    "diasLomaAmarilla=seleccionadordeDetectores(listaLomaAmarilla)\n",
    "diasCoihueco=seleccionadordeDetectores(listaCoihueco)\n"
   ]
  },
  {
   "cell_type": "code",
   "execution_count": 15,
   "metadata": {
    "collapsed": true
   },
   "outputs": [],
   "source": [
    "def deduplicadorV2(diasDetectores):\n",
    "    deduplicado=diasDetectores\n",
    "    for i in range(len(diasDetectores)):\n",
    "        for j in range(len(diasDetectores[0])):\n",
    "            deduplicado[i][j]=diasDetectores[i][j][~diasDetectores[i][j].index.duplicated(keep='first')]        \n",
    "    return deduplicado\n"
   ]
  },
  {
   "cell_type": "markdown",
   "metadata": {},
   "source": [
    "**Las siguientes instrucciones permiten imprimir en pantalla las dimensiones de los dataframes cuyos numero \n",
    "de registros no supera los 214 **"
   ]
  },
  {
   "cell_type": "code",
   "execution_count": 16,
   "metadata": {
    "collapsed": true,
    "scrolled": false
   },
   "outputs": [],
   "source": [
    "def contador(listaDias):\n",
    "    for i in range(len(listaDias)):#19 detectores\n",
    "        for j in range(len(listaDias[0])):#10 dias analizados\n",
    "            if listaDias[i][j].shape[0]<214:\n",
    "                print(listaDias[i][j].shape)"
   ]
  },
  {
   "cell_type": "code",
   "execution_count": 17,
   "metadata": {
    "collapsed": true
   },
   "outputs": [],
   "source": [
    "def concatenadorResampler(detCercanos):\n",
    "    detec=[[] for i in range(len(detCercanos))]\n",
    "    detec[0]=pd.concat(detCercanos[0]).resample(\"400s\").ffill()\n",
    "    detec[1]=pd.concat(detCercanos[1]).resample(\"400s\").ffill()\n",
    "    detec[2]=pd.concat(detCercanos[2]).resample(\"400s\").ffill()\n",
    "    detec[3]=pd.concat(detCercanos[3]).resample(\"400s\").ffill()\n",
    "    detec[4]=pd.concat(detCercanos[4]).resample(\"400s\").ffill()\n",
    "    detec[5]=pd.concat(detCercanos[5]).resample(\"400s\").ffill()\n",
    "    detec[6]=pd.concat(detCercanos[6]).resample(\"400s\").ffill()\n",
    "    detec[7]=pd.concat(detCercanos[7]).resample(\"400s\").ffill()\n",
    "    detec[8]=pd.concat(detCercanos[8]).resample(\"400s\").ffill()\n",
    "    detec[9]=pd.concat(detCercanos[9]).resample(\"400s\").ffill()\n",
    "    detec[10]=pd.concat(detCercanos[10]).resample(\"400s\").ffill()\n",
    "    detec[11]=pd.concat(detCercanos[11]).resample(\"400s\").ffill()\n",
    "    detec[12]=pd.concat(detCercanos[12]).resample(\"400s\").ffill()\n",
    "    detec[13]=pd.concat(detCercanos[13]).resample(\"400s\").ffill()\n",
    "    detec[14]=pd.concat(detCercanos[14]).resample(\"400s\").ffill()\n",
    "    detec[15]=pd.concat(detCercanos[15]).resample(\"400s\").ffill()\n",
    "    detec[16]=pd.concat(detCercanos[16]).resample(\"400s\").ffill()\n",
    "    detec[17]=pd.concat(detCercanos[17]).resample(\"400s\").ffill()\n",
    "    detec[18]=pd.concat(detCercanos[18]).resample(\"400s\").ffill()\n",
    "    \n",
    "    concatenado=pd.concat(detec, axis=1)\n",
    "    concatenado.drop(\"fLsId\", axis=1, inplace=True) #Se borra todas las columnas con el nombre fLsId\n",
    "    return concatenado\n",
    "\n",
    "    "
   ]
  },
  {
   "cell_type": "markdown",
   "metadata": {
    "collapsed": true
   },
   "source": [
    "Se hace el remuestreo en aras de garantizar los 216 registros(1 registro cada 400 segundos) por dia y de esta manera, evitar que cada registro de cada detector corresponda con los registros de los otros.\n",
    "\n",
    "La regla que se uso para hacer el remuestreo es el llenado hacia adelante, de modo que se no se usara informacion del futuro y asi seguir tratando los datos como una serie temporal. "
   ]
  },
  {
   "cell_type": "markdown",
   "metadata": {},
   "source": [
    "** Para los Leones **"
   ]
  },
  {
   "cell_type": "code",
   "execution_count": 18,
   "metadata": {},
   "outputs": [
    {
     "data": {
      "text/plain": [
       "(2376, 114)"
      ]
     },
     "execution_count": 18,
     "metadata": {},
     "output_type": "execute_result"
    }
   ],
   "source": [
    "detectoresLosLeones=concatenadorResampler(diasLosLeones)\n",
    "detectoresLosLeones.shape"
   ]
  },
  {
   "cell_type": "markdown",
   "metadata": {},
   "source": [
    "** Para Los Morados **"
   ]
  },
  {
   "cell_type": "code",
   "execution_count": 19,
   "metadata": {},
   "outputs": [
    {
     "data": {
      "text/plain": [
       "(2377, 114)"
      ]
     },
     "execution_count": 19,
     "metadata": {},
     "output_type": "execute_result"
    }
   ],
   "source": [
    "detectoresLosMorados=concatenadorResampler(diasLosMorados)\n",
    "detectoresLosMorados.shape"
   ]
  },
  {
   "cell_type": "markdown",
   "metadata": {},
   "source": [
    "** Para Loma Amarilla **"
   ]
  },
  {
   "cell_type": "code",
   "execution_count": 20,
   "metadata": {},
   "outputs": [
    {
     "data": {
      "text/plain": [
       "(2377, 114)"
      ]
     },
     "execution_count": 20,
     "metadata": {},
     "output_type": "execute_result"
    }
   ],
   "source": [
    "detectoresLomaAmarilla=concatenadorResampler(diasLomaAmarilla)\n",
    "detectoresLomaAmarilla.shape"
   ]
  },
  {
   "cell_type": "markdown",
   "metadata": {},
   "source": [
    "** Para Colihueco **"
   ]
  },
  {
   "cell_type": "code",
   "execution_count": 21,
   "metadata": {},
   "outputs": [
    {
     "data": {
      "text/plain": [
       "(2378, 114)"
      ]
     },
     "execution_count": 21,
     "metadata": {},
     "output_type": "execute_result"
    }
   ],
   "source": [
    "diasCoihuecoDeduplicado=deduplicadorV2(diasCoihueco)\n",
    "detectoresCoihueco=concatenadorResampler(diasCoihuecoDeduplicado)\n",
    "detectoresCoihueco.shape"
   ]
  },
  {
   "cell_type": "markdown",
   "metadata": {},
   "source": [
    "Se concatenan los datos de los detectores de forma horizontal."
   ]
  },
  {
   "cell_type": "code",
   "execution_count": 22,
   "metadata": {},
   "outputs": [
    {
     "data": {
      "text/plain": [
       "False"
      ]
     },
     "execution_count": 22,
     "metadata": {},
     "output_type": "execute_result"
    }
   ],
   "source": [
    "detectoresCoihueco.equals(detectoresLomaAmarilla)"
   ]
  },
  {
   "cell_type": "markdown",
   "metadata": {},
   "source": [
    "# Leer Temperatura de la estación"
   ]
  },
  {
   "cell_type": "markdown",
   "metadata": {},
   "source": [
    "Se cargan  los datos de una estación, y se remuestrean de modo que correspondan con la frecuencia con las que se remuestrearon los datos de los detectores. De la misma manera que con los datos de los detectores, estos tambien se remuestrearon usando la regla de llenado hacia delante."
   ]
  },
  {
   "cell_type": "code",
   "execution_count": 23,
   "metadata": {
    "collapsed": true
   },
   "outputs": [],
   "source": [
    "def lecturaTemperaturaStation(ruta, detectStation):\n",
    "    nombres2=[\"Time\",\"Temperature\"]\n",
    "    temperature_Station=pd.read_csv(str(ruta), sep=\" \", header=None, names=nombres2, usecols=[0, 1], index_col=None)\n",
    "    temperature_Station.set_index(\"Time\", inplace=True)\n",
    "    temperature_Station.index=pd.to_datetime(temperature_Station.index, unit=\"s\")\n",
    "    temperature_Station=temperature_Station.resample(\"400s\").ffill()\n",
    "    \n",
    "    first=str(detectStation.index[0])\n",
    "    last=str(detectStation.index[-1])\n",
    "    temperature_Station=temperature_Station.loc[first:last]\n",
    "    return temperature_Station"
   ]
  },
  {
   "cell_type": "code",
   "execution_count": 24,
   "metadata": {},
   "outputs": [
    {
     "data": {
      "text/plain": [
       "(2376, 1)"
      ]
     },
     "execution_count": 24,
     "metadata": {},
     "output_type": "execute_result"
    }
   ],
   "source": [
    "#Leones\n",
    "temperature_Leones=lecturaTemperaturaStation(\"/home/libardomm/auger/station/Los_Morados/wlmo_l2.dat\", detectoresLosLeones)\n",
    "temperature_Leones.shape"
   ]
  },
  {
   "cell_type": "code",
   "execution_count": 25,
   "metadata": {},
   "outputs": [
    {
     "data": {
      "text/plain": [
       "(2377, 1)"
      ]
     },
     "execution_count": 25,
     "metadata": {},
     "output_type": "execute_result"
    }
   ],
   "source": [
    "#Morados\n",
    "temperature_Morados=lecturaTemperaturaStation(\"/home/libardomm/auger/station/Los_Morados/wlmo_l2.dat\", detectoresLosMorados)\n",
    "temperature_Morados.shape"
   ]
  },
  {
   "cell_type": "code",
   "execution_count": 26,
   "metadata": {},
   "outputs": [
    {
     "data": {
      "text/plain": [
       "(2377, 1)"
      ]
     },
     "execution_count": 26,
     "metadata": {},
     "output_type": "execute_result"
    }
   ],
   "source": [
    "#Loma Amarilla \n",
    "temperature_LomaAmarilla=lecturaTemperaturaStation(\"/home/libardomm/auger/station/Loma_Amarilla/wlam_l2.dat\", detectoresLomaAmarilla)\n",
    "temperature_LomaAmarilla.shape"
   ]
  },
  {
   "cell_type": "code",
   "execution_count": 27,
   "metadata": {},
   "outputs": [
    {
     "data": {
      "text/plain": [
       "(2378, 1)"
      ]
     },
     "execution_count": 27,
     "metadata": {},
     "output_type": "execute_result"
    }
   ],
   "source": [
    "#Coihueco\n",
    "temperature_Coihueco=lecturaTemperaturaStation(\"/home/libardomm/auger/station/Coihueco/wcoi_l1.dat\", detectoresCoihueco)\n",
    "temperature_Coihueco.shape"
   ]
  },
  {
   "cell_type": "markdown",
   "metadata": {},
   "source": [
    "Se toman solamente los registros de temperatura necesarios para que coincidan con el numero de registros que se tomaron en los detectores. "
   ]
  },
  {
   "cell_type": "markdown",
   "metadata": {},
   "source": [
    "Se concatena la temperatura de la estacion con los datos de los detectores. Tambien se eliminan manualmente las filas de datos de los dias faltantes como tambien la primera fila que tiene datos anterioresl al primer dia"
   ]
  },
  {
   "cell_type": "code",
   "execution_count": 28,
   "metadata": {
    "collapsed": true
   },
   "outputs": [],
   "source": [
    "def preparadordeDatos(detectores_station, temp):\n",
    "    data_station=pd.concat([detectores_station, temp], axis=1)\n",
    "    data_station.drop(data_station.loc[\"2014-04-30\"].index, inplace=True)\n",
    "    data_station.drop(data_station.loc[\"2014-05-06\"].index, inplace=True)\n",
    "    data_station.fillna(method=\"ffill\", inplace=True)\n",
    "    data_station.fillna(method=\"bfill\", inplace=True)\n",
    "\n",
    "    return data_station"
   ]
  },
  {
   "cell_type": "code",
   "execution_count": 29,
   "metadata": {},
   "outputs": [
    {
     "name": "stdout",
     "output_type": "stream",
     "text": [
      "(2159, 115)\n",
      "(2160, 115)\n",
      "(2160, 115)\n",
      "(2159, 115)\n"
     ]
    }
   ],
   "source": [
    "data_LosLeones= preparadordeDatos(detectoresLosLeones,temperature_Leones)\n",
    "data_LomaAmarilla=preparadordeDatos(detectoresLomaAmarilla,temperature_LomaAmarilla)\n",
    "data_LosMorados=preparadordeDatos(detectoresLosMorados, temperature_Morados)\n",
    "data_Coihueco=preparadordeDatos(detectoresCoihueco, temperature_Coihueco)\n",
    "print(data_LosLeones.shape)\n",
    "print(data_LomaAmarilla.shape)\n",
    "print(data_LosMorados.shape)\n",
    "print(data_Coihueco.shape)"
   ]
  },
  {
   "cell_type": "code",
   "execution_count": 30,
   "metadata": {},
   "outputs": [
    {
     "data": {
      "text/html": [
       "<div>\n",
       "<style>\n",
       "    .dataframe thead tr:only-child th {\n",
       "        text-align: right;\n",
       "    }\n",
       "\n",
       "    .dataframe thead th {\n",
       "        text-align: left;\n",
       "    }\n",
       "\n",
       "    .dataframe tbody tr th {\n",
       "        vertical-align: top;\n",
       "    }\n",
       "</style>\n",
       "<table border=\"1\" class=\"dataframe\">\n",
       "  <thead>\n",
       "    <tr style=\"text-align: right;\">\n",
       "      <th></th>\n",
       "      <th>fPMT[0]</th>\n",
       "      <th>fPMT[1]</th>\n",
       "      <th>fPMT[2]</th>\n",
       "      <th>fElectT</th>\n",
       "      <th>fBatteryT[0]</th>\n",
       "      <th>fBatteryT[1]</th>\n",
       "      <th>fPMT[0]</th>\n",
       "      <th>fPMT[1]</th>\n",
       "      <th>fPMT[2]</th>\n",
       "      <th>fElectT</th>\n",
       "      <th>fBatteryT[0]</th>\n",
       "      <th>fBatteryT[1]</th>\n",
       "      <th>fPMT[0]</th>\n",
       "      <th>fPMT[1]</th>\n",
       "      <th>fPMT[2]</th>\n",
       "      <th>fElectT</th>\n",
       "      <th>fBatteryT[0]</th>\n",
       "      <th>fBatteryT[1]</th>\n",
       "      <th>fPMT[0]</th>\n",
       "      <th>fPMT[1]</th>\n",
       "      <th>fPMT[2]</th>\n",
       "      <th>fElectT</th>\n",
       "      <th>fBatteryT[0]</th>\n",
       "      <th>fBatteryT[1]</th>\n",
       "      <th>fPMT[0]</th>\n",
       "      <th>fPMT[1]</th>\n",
       "      <th>fPMT[2]</th>\n",
       "      <th>fElectT</th>\n",
       "      <th>fBatteryT[0]</th>\n",
       "      <th>fBatteryT[1]</th>\n",
       "      <th>fPMT[0]</th>\n",
       "      <th>fPMT[1]</th>\n",
       "      <th>fPMT[2]</th>\n",
       "      <th>fElectT</th>\n",
       "      <th>fBatteryT[0]</th>\n",
       "      <th>fBatteryT[1]</th>\n",
       "      <th>fPMT[0]</th>\n",
       "      <th>fPMT[1]</th>\n",
       "      <th>fPMT[2]</th>\n",
       "      <th>fElectT</th>\n",
       "      <th>fBatteryT[0]</th>\n",
       "      <th>fBatteryT[1]</th>\n",
       "      <th>fPMT[0]</th>\n",
       "      <th>fPMT[1]</th>\n",
       "      <th>fPMT[2]</th>\n",
       "      <th>fElectT</th>\n",
       "      <th>fBatteryT[0]</th>\n",
       "      <th>fBatteryT[1]</th>\n",
       "      <th>fPMT[0]</th>\n",
       "      <th>fPMT[1]</th>\n",
       "      <th>fPMT[2]</th>\n",
       "      <th>fElectT</th>\n",
       "      <th>fBatteryT[0]</th>\n",
       "      <th>fBatteryT[1]</th>\n",
       "      <th>fPMT[0]</th>\n",
       "      <th>fPMT[1]</th>\n",
       "      <th>fPMT[2]</th>\n",
       "      <th>fElectT</th>\n",
       "      <th>fBatteryT[0]</th>\n",
       "      <th>fBatteryT[1]</th>\n",
       "      <th>fPMT[0]</th>\n",
       "      <th>fPMT[1]</th>\n",
       "      <th>fPMT[2]</th>\n",
       "      <th>fElectT</th>\n",
       "      <th>fBatteryT[0]</th>\n",
       "      <th>fBatteryT[1]</th>\n",
       "      <th>fPMT[0]</th>\n",
       "      <th>fPMT[1]</th>\n",
       "      <th>fPMT[2]</th>\n",
       "      <th>fElectT</th>\n",
       "      <th>fBatteryT[0]</th>\n",
       "      <th>fBatteryT[1]</th>\n",
       "      <th>fPMT[0]</th>\n",
       "      <th>fPMT[1]</th>\n",
       "      <th>fPMT[2]</th>\n",
       "      <th>fElectT</th>\n",
       "      <th>fBatteryT[0]</th>\n",
       "      <th>fBatteryT[1]</th>\n",
       "      <th>fPMT[0]</th>\n",
       "      <th>fPMT[1]</th>\n",
       "      <th>fPMT[2]</th>\n",
       "      <th>fElectT</th>\n",
       "      <th>fBatteryT[0]</th>\n",
       "      <th>fBatteryT[1]</th>\n",
       "      <th>fPMT[0]</th>\n",
       "      <th>fPMT[1]</th>\n",
       "      <th>fPMT[2]</th>\n",
       "      <th>fElectT</th>\n",
       "      <th>fBatteryT[0]</th>\n",
       "      <th>fBatteryT[1]</th>\n",
       "      <th>fPMT[0]</th>\n",
       "      <th>fPMT[1]</th>\n",
       "      <th>fPMT[2]</th>\n",
       "      <th>fElectT</th>\n",
       "      <th>fBatteryT[0]</th>\n",
       "      <th>fBatteryT[1]</th>\n",
       "      <th>fPMT[0]</th>\n",
       "      <th>fPMT[1]</th>\n",
       "      <th>fPMT[2]</th>\n",
       "      <th>fElectT</th>\n",
       "      <th>fBatteryT[0]</th>\n",
       "      <th>fBatteryT[1]</th>\n",
       "      <th>fPMT[0]</th>\n",
       "      <th>fPMT[1]</th>\n",
       "      <th>fPMT[2]</th>\n",
       "      <th>fElectT</th>\n",
       "      <th>fBatteryT[0]</th>\n",
       "      <th>fBatteryT[1]</th>\n",
       "      <th>fPMT[0]</th>\n",
       "      <th>fPMT[1]</th>\n",
       "      <th>fPMT[2]</th>\n",
       "      <th>fElectT</th>\n",
       "      <th>fBatteryT[0]</th>\n",
       "      <th>fBatteryT[1]</th>\n",
       "      <th>Temperature</th>\n",
       "    </tr>\n",
       "    <tr>\n",
       "      <th>fTime</th>\n",
       "      <th></th>\n",
       "      <th></th>\n",
       "      <th></th>\n",
       "      <th></th>\n",
       "      <th></th>\n",
       "      <th></th>\n",
       "      <th></th>\n",
       "      <th></th>\n",
       "      <th></th>\n",
       "      <th></th>\n",
       "      <th></th>\n",
       "      <th></th>\n",
       "      <th></th>\n",
       "      <th></th>\n",
       "      <th></th>\n",
       "      <th></th>\n",
       "      <th></th>\n",
       "      <th></th>\n",
       "      <th></th>\n",
       "      <th></th>\n",
       "      <th></th>\n",
       "      <th></th>\n",
       "      <th></th>\n",
       "      <th></th>\n",
       "      <th></th>\n",
       "      <th></th>\n",
       "      <th></th>\n",
       "      <th></th>\n",
       "      <th></th>\n",
       "      <th></th>\n",
       "      <th></th>\n",
       "      <th></th>\n",
       "      <th></th>\n",
       "      <th></th>\n",
       "      <th></th>\n",
       "      <th></th>\n",
       "      <th></th>\n",
       "      <th></th>\n",
       "      <th></th>\n",
       "      <th></th>\n",
       "      <th></th>\n",
       "      <th></th>\n",
       "      <th></th>\n",
       "      <th></th>\n",
       "      <th></th>\n",
       "      <th></th>\n",
       "      <th></th>\n",
       "      <th></th>\n",
       "      <th></th>\n",
       "      <th></th>\n",
       "      <th></th>\n",
       "      <th></th>\n",
       "      <th></th>\n",
       "      <th></th>\n",
       "      <th></th>\n",
       "      <th></th>\n",
       "      <th></th>\n",
       "      <th></th>\n",
       "      <th></th>\n",
       "      <th></th>\n",
       "      <th></th>\n",
       "      <th></th>\n",
       "      <th></th>\n",
       "      <th></th>\n",
       "      <th></th>\n",
       "      <th></th>\n",
       "      <th></th>\n",
       "      <th></th>\n",
       "      <th></th>\n",
       "      <th></th>\n",
       "      <th></th>\n",
       "      <th></th>\n",
       "      <th></th>\n",
       "      <th></th>\n",
       "      <th></th>\n",
       "      <th></th>\n",
       "      <th></th>\n",
       "      <th></th>\n",
       "      <th></th>\n",
       "      <th></th>\n",
       "      <th></th>\n",
       "      <th></th>\n",
       "      <th></th>\n",
       "      <th></th>\n",
       "      <th></th>\n",
       "      <th></th>\n",
       "      <th></th>\n",
       "      <th></th>\n",
       "      <th></th>\n",
       "      <th></th>\n",
       "      <th></th>\n",
       "      <th></th>\n",
       "      <th></th>\n",
       "      <th></th>\n",
       "      <th></th>\n",
       "      <th></th>\n",
       "      <th></th>\n",
       "      <th></th>\n",
       "      <th></th>\n",
       "      <th></th>\n",
       "      <th></th>\n",
       "      <th></th>\n",
       "      <th></th>\n",
       "      <th></th>\n",
       "      <th></th>\n",
       "      <th></th>\n",
       "      <th></th>\n",
       "      <th></th>\n",
       "      <th></th>\n",
       "      <th></th>\n",
       "      <th></th>\n",
       "      <th></th>\n",
       "      <th></th>\n",
       "      <th></th>\n",
       "      <th></th>\n",
       "    </tr>\n",
       "  </thead>\n",
       "  <tbody>\n",
       "  </tbody>\n",
       "</table>\n",
       "</div>"
      ],
      "text/plain": [
       "Empty DataFrame\n",
       "Columns: [fPMT[0], fPMT[1], fPMT[2], fElectT, fBatteryT[0], fBatteryT[1], fPMT[0], fPMT[1], fPMT[2], fElectT, fBatteryT[0], fBatteryT[1], fPMT[0], fPMT[1], fPMT[2], fElectT, fBatteryT[0], fBatteryT[1], fPMT[0], fPMT[1], fPMT[2], fElectT, fBatteryT[0], fBatteryT[1], fPMT[0], fPMT[1], fPMT[2], fElectT, fBatteryT[0], fBatteryT[1], fPMT[0], fPMT[1], fPMT[2], fElectT, fBatteryT[0], fBatteryT[1], fPMT[0], fPMT[1], fPMT[2], fElectT, fBatteryT[0], fBatteryT[1], fPMT[0], fPMT[1], fPMT[2], fElectT, fBatteryT[0], fBatteryT[1], fPMT[0], fPMT[1], fPMT[2], fElectT, fBatteryT[0], fBatteryT[1], fPMT[0], fPMT[1], fPMT[2], fElectT, fBatteryT[0], fBatteryT[1], fPMT[0], fPMT[1], fPMT[2], fElectT, fBatteryT[0], fBatteryT[1], fPMT[0], fPMT[1], fPMT[2], fElectT, fBatteryT[0], fBatteryT[1], fPMT[0], fPMT[1], fPMT[2], fElectT, fBatteryT[0], fBatteryT[1], fPMT[0], fPMT[1], fPMT[2], fElectT, fBatteryT[0], fBatteryT[1], fPMT[0], fPMT[1], fPMT[2], fElectT, fBatteryT[0], fBatteryT[1], fPMT[0], fPMT[1], fPMT[2], fElectT, fBatteryT[0], fBatteryT[1], fPMT[0], fPMT[1], fPMT[2], fElectT, ...]\n",
       "Index: []"
      ]
     },
     "execution_count": 30,
     "metadata": {},
     "output_type": "execute_result"
    }
   ],
   "source": [
    "data_LomaAmarilla[data_LomaAmarilla.iloc[:,110].isnull()]\n",
    "#data_lomaAmarilla.iloc[:,110].isnull().sum()"
   ]
  },
  {
   "cell_type": "markdown",
   "metadata": {},
   "source": [
    "## 2. Machine Learning"
   ]
  },
  {
   "cell_type": "code",
   "execution_count": 31,
   "metadata": {
    "collapsed": true
   },
   "outputs": [],
   "source": [
    "import pandas as pd\n",
    "import numpy as np\n",
    "from sklearn.linear_model import LinearRegression\n",
    "from sklearn import  metrics\n",
    "import matplotlib.pyplot as plt\n"
   ]
  },
  {
   "cell_type": "markdown",
   "metadata": {},
   "source": [
    "Se define cual va a ser la matriz de variables de entrada( X: datos de tanques) y el vector con los datos deseados (y: temperatura de una estacion)"
   ]
  },
  {
   "cell_type": "markdown",
   "metadata": {
    "collapsed": true
   },
   "source": [
    "Se define la funcion que va a permitir cortar el datos segun las estrategia que se describe a continuacion: \n",
    "* En la primera configuracion se toma algunos dias de datos consecutivos como datos de training y el dia imediatamente despues al ultimo de los dia de training se toma como test.\n",
    "* En la siguiente configuracion se corren tanto los datos de training como los de test en un dia. O en otras palabras, si se toman tres dias de training y en la anterior configuracion se tomaron los dias 1,2 y 3 como training y el dia 4 como testing, en este caso se toman los dias 2,3,4 como training y el dia 5 como testing."
   ]
  },
  {
   "cell_type": "markdown",
   "metadata": {
    "collapsed": true
   },
   "source": [
    "# Tabla mejorada"
   ]
  },
  {
   "cell_type": "code",
   "execution_count": 32,
   "metadata": {
    "collapsed": true
   },
   "outputs": [],
   "source": [
    "def XySplit(data_station):\n",
    "    columnas=[ 'fPMT[0]', 'fPMT[1]', 'fPMT[2]', 'fElectT',\n",
    "       'fBatteryT[0]', 'fBatteryT[1]'] \n",
    "    \n",
    "    X=data_station[columnas]\n",
    "    y=data_station.Temperature\n",
    "    return X,y"
   ]
  },
  {
   "cell_type": "code",
   "execution_count": 33,
   "metadata": {
    "collapsed": true
   },
   "outputs": [],
   "source": [
    "indices = [\"3d-1d-L\",\"4d-1d-L\",\"5d-1d-L\",\"3d-1d-A\",\"4d-1d-A\",\"5d-1d-A\"]"
   ]
  },
  {
   "cell_type": "code",
   "execution_count": 34,
   "metadata": {
    "collapsed": true
   },
   "outputs": [],
   "source": [
    "def crearIndice(i, name):\n",
    "    return str(i)+\"d-1d-\"+name   "
   ]
  },
  {
   "cell_type": "code",
   "execution_count": 71,
   "metadata": {
    "collapsed": true
   },
   "outputs": [],
   "source": [
    "linreg=LinearRegression()\n",
    "\n",
    "def cross_val_v2( Trainfolds, data_stationA, data_stationB):\n",
    "    \n",
    "    n=int(data_stationA.shape[0]/216)-Trainfolds\n",
    "    linreg=LinearRegression()\n",
    "    regs=216\n",
    "    errores=[]\n",
    "    \n",
    "    Xa,ya= XySplit(data_stationA)\n",
    "    Xb, yb= XySplit(data_stationB)\n",
    "\n",
    "    for n in range(0,n):\n",
    "        f_day_n= regs*n #primer dia de entrenamiento\n",
    "        l_day_n=f_day_n + (Trainfolds*regs) #ultimo dia de entrenan\n",
    "        iX_train=Xa.iloc[f_day_n:l_day_n]\n",
    "        iy_train=ya.iloc[f_day_n:l_day_n]\n",
    "\n",
    "        iX_test= Xb.iloc[l_day_n: l_day_n+regs]\n",
    "        iy_test=yb.iloc[l_day_n: l_day_n+regs]\n",
    "        \n",
    "        linreg.fit(iX_train,iy_train)\n",
    "        iy_predic=linreg.predict(iX_test)\n",
    "\n",
    "        errores.append((metrics.mean_absolute_error(iy_test,iy_predic)))\n",
    "    return  np.array([np.mean(errores),np.std(errores)])\n",
    "    "
   ]
  },
  {
   "cell_type": "code",
   "execution_count": 74,
   "metadata": {
    "collapsed": true
   },
   "outputs": [],
   "source": [
    "# manden un vector\n",
    "def linearRegresion_V2(data_stationA, data_stationB): \n",
    "    my_df= []\n",
    "\n",
    "    for i in range(3,6):\n",
    "        a=cross_val_v2(i,data_stationA, data_stationB)\n",
    "        d = {\n",
    "            'indice': crearIndice(i,\"\"),\n",
    "            #'Mean,Standard Dev' : [a[0], a[1]] , # some formula for obtaining values\n",
    "            'Mean' : a[0] , # some formula for obtaining values\n",
    "            'Standard Dev' : a[1],\n",
    "        }\n",
    "        my_df.append(d)\n",
    "\n",
    "    my_df = pd.DataFrame(my_df)\n",
    "\n",
    "    my_df.set_index('indice', inplace=True)\n",
    "    \n",
    "    return my_df\n",
    "    "
   ]
  },
  {
   "cell_type": "code",
   "execution_count": 76,
   "metadata": {
    "scrolled": true
   },
   "outputs": [
    {
     "data": {
      "text/html": [
       "<div>\n",
       "<style>\n",
       "    .dataframe thead tr:only-child th {\n",
       "        text-align: right;\n",
       "    }\n",
       "\n",
       "    .dataframe thead th {\n",
       "        text-align: left;\n",
       "    }\n",
       "\n",
       "    .dataframe tbody tr th {\n",
       "        vertical-align: top;\n",
       "    }\n",
       "</style>\n",
       "<table border=\"1\" class=\"dataframe\">\n",
       "  <thead>\n",
       "    <tr style=\"text-align: right;\">\n",
       "      <th></th>\n",
       "      <th>Mean</th>\n",
       "      <th>Standard Dev</th>\n",
       "    </tr>\n",
       "    <tr>\n",
       "      <th>indice</th>\n",
       "      <th></th>\n",
       "      <th></th>\n",
       "    </tr>\n",
       "  </thead>\n",
       "  <tbody>\n",
       "    <tr>\n",
       "      <th>3d-1d-</th>\n",
       "      <td>3.541697e+11</td>\n",
       "      <td>7.635445e+11</td>\n",
       "    </tr>\n",
       "    <tr>\n",
       "      <th>4d-1d-</th>\n",
       "      <td>4.057418e+10</td>\n",
       "      <td>4.492988e+10</td>\n",
       "    </tr>\n",
       "    <tr>\n",
       "      <th>5d-1d-</th>\n",
       "      <td>4.459151e+10</td>\n",
       "      <td>2.573745e+10</td>\n",
       "    </tr>\n",
       "  </tbody>\n",
       "</table>\n",
       "</div>"
      ],
      "text/plain": [
       "                Mean  Standard Dev\n",
       "indice                            \n",
       "3d-1d-  3.541697e+11  7.635445e+11\n",
       "4d-1d-  4.057418e+10  4.492988e+10\n",
       "5d-1d-  4.459151e+10  2.573745e+10"
      ]
     },
     "execution_count": 76,
     "metadata": {},
     "output_type": "execute_result"
    }
   ],
   "source": [
    "linearRegresion_V2(data_LosLeones, data_LomaAmarilla)"
   ]
  },
  {
   "cell_type": "markdown",
   "metadata": {
    "collapsed": true
   },
   "source": [
    "rndom forest regression"
   ]
  },
  {
   "cell_type": "code",
   "execution_count": 39,
   "metadata": {
    "collapsed": true
   },
   "outputs": [],
   "source": [
    "def graficadorTemperatura(dataStation):\n",
    "    %matplotlib inline\n",
    "    y=dataStation.Temperature\n",
    "    x=dataStation.index\n",
    "    return plt.plot(x,y)\n"
   ]
  },
  {
   "cell_type": "code",
   "execution_count": 40,
   "metadata": {},
   "outputs": [
    {
     "data": {
      "text/plain": [
       "[<matplotlib.lines.Line2D at 0x7fd8dd058e48>]"
      ]
     },
     "execution_count": 40,
     "metadata": {},
     "output_type": "execute_result"
    },
    {
     "data": {
      "image/png": "[encoded data removed]",
      "text/plain": [
       "<matplotlib.figure.Figure at 0x7fd8adfac860>"
      ]
     },
     "metadata": {},
     "output_type": "display_data"
    }
   ],
   "source": [
    "graficadorTemperatura(data_LosLeones)"
   ]
  },
  {
   "cell_type": "code",
   "execution_count": 41,
   "metadata": {
    "scrolled": true
   },
   "outputs": [
    {
     "data": {
      "text/plain": [
       "[<matplotlib.lines.Line2D at 0x7fd890aa5048>]"
      ]
     },
     "execution_count": 41,
     "metadata": {},
     "output_type": "execute_result"
    },
    {
     "data": {
      "image/png": "[encoded data removed]",
      "text/plain": [
       "<matplotlib.figure.Figure at 0x7fd8991abb00>"
      ]
     },
     "metadata": {},
     "output_type": "display_data"
    }
   ],
   "source": [
    "graficadorTemperatura(data_LomaAmarilla)"
   ]
  },
  {
   "cell_type": "code",
   "execution_count": 42,
   "metadata": {
    "scrolled": true
   },
   "outputs": [
    {
     "data": {
      "text/plain": [
       "[<matplotlib.lines.Line2D at 0x7fd890a86fd0>]"
      ]
     },
     "execution_count": 42,
     "metadata": {},
     "output_type": "execute_result"
    },
    {
     "data": {
      "image/png": "[encoded data removed]",
      "text/plain": [
       "<matplotlib.figure.Figure at 0x7fd890bb6da0>"
      ]
     },
     "metadata": {},
     "output_type": "display_data"
    }
   ],
   "source": [
    "graficadorTemperatura(data_LomaAmarilla)"
   ]
  },
  {
   "cell_type": "code",
   "execution_count": 43,
   "metadata": {},
   "outputs": [
    {
     "data": {
      "text/plain": [
       "[<matplotlib.lines.Line2D at 0x7fd8909d87f0>]"
      ]
     },
     "execution_count": 43,
     "metadata": {},
     "output_type": "execute_result"
    },
    {
     "data": {
      "image/png": "[encoded data removed]",
      "text/plain": [
       "<matplotlib.figure.Figure at 0x7fd890a76320>"
      ]
     },
     "metadata": {},
     "output_type": "display_data"
    }
   ],
   "source": [
    "graficadorTemperatura(data_Coihueco)"
   ]
  },
  {
   "cell_type": "markdown",
   "metadata": {
    "collapsed": true
   },
   "source": [
    "# Random Forest Regressor"
   ]
  },
  {
   "cell_type": "code",
   "execution_count": 44,
   "metadata": {
    "collapsed": true
   },
   "outputs": [],
   "source": [
    "from sklearn.ensemble import RandomForestRegressor\n",
    "from random import seed\n",
    "\n"
   ]
  },
  {
   "cell_type": "code",
   "execution_count": 45,
   "metadata": {
    "collapsed": true
   },
   "outputs": [],
   "source": [
    "\n",
    "def cross_val_randomforestRegressor( Trainfolds, data_stationA, data_stationB):\n",
    "    n=int(data_stationA.shape[0]/216)-Trainfolds\n",
    "    rndforest=RandomForestRegressor(random_state=42)\n",
    "    regs=216\n",
    "    errores=[]\n",
    "    ypredict_list=[]\n",
    "    \n",
    "    Xa,ya= XySplit(data_stationA)\n",
    "    Xb, yb= XySplit(data_stationB)\n",
    "\n",
    "    for n in range(0,n):\n",
    "        f_day_n= regs*n #primer dia de entrenamiento\n",
    "        l_day_n=f_day_n + (Trainfolds*regs) #ultimo dia de entrenan\n",
    "        iX_train=Xa.iloc[f_day_n:l_day_n]\n",
    "        iy_train=ya.iloc[f_day_n:l_day_n]\n",
    "\n",
    "        iX_test= Xb.iloc[l_day_n: l_day_n+regs]\n",
    "        iy_test=yb.iloc[l_day_n: l_day_n+regs]\n",
    "        \n",
    "        rndforest.fit(iX_train,iy_train)\n",
    "        iy_predic=rndforest.predict(iX_test)\n",
    "        ypredict_list.append(iy_predic)\n",
    "        errores.append((metrics.mean_absolute_error(iy_test,iy_predic)))\n",
    "    return  np.array([np.mean(errores),np.std(errores)])\n",
    "    "
   ]
  },
  {
   "cell_type": "code",
   "execution_count": 46,
   "metadata": {
    "collapsed": true
   },
   "outputs": [],
   "source": [
    "def randomfores_V2(data_stationA, data_stationB): \n",
    "    my_df= []\n",
    "\n",
    "    for i in range(3,6):\n",
    "        a=cross_val_randomforestRegressor(i,data_stationA, data_stationB)\n",
    "        d = {\n",
    "            'indice': crearIndice(i,\"\"),\n",
    "            #'Mean,Standard Dev' : [a[0], a[1]] , # some formula for obtaining values\n",
    "            'Mean' : a[0] , # some formula for obtaining values\n",
    "            'Standard Dev' : a[1],\n",
    "        }\n",
    "        my_df.append(d)\n",
    "\n",
    "    my_df = pd.DataFrame(my_df)\n",
    "\n",
    "    my_df.set_index('indice', inplace=True)\n",
    "    \n",
    "    return my_df\n",
    "    "
   ]
  },
  {
   "cell_type": "markdown",
   "metadata": {},
   "source": [
    "## **Leones vs ** **"
   ]
  },
  {
   "cell_type": "code",
   "execution_count": 47,
   "metadata": {},
   "outputs": [
    {
     "data": {
      "text/html": [
       "<div>\n",
       "<style>\n",
       "    .dataframe thead tr:only-child th {\n",
       "        text-align: right;\n",
       "    }\n",
       "\n",
       "    .dataframe thead th {\n",
       "        text-align: left;\n",
       "    }\n",
       "\n",
       "    .dataframe tbody tr th {\n",
       "        vertical-align: top;\n",
       "    }\n",
       "</style>\n",
       "<table border=\"1\" class=\"dataframe\">\n",
       "  <thead>\n",
       "    <tr style=\"text-align: right;\">\n",
       "      <th></th>\n",
       "      <th>Mean</th>\n",
       "      <th>Standard Dev</th>\n",
       "    </tr>\n",
       "    <tr>\n",
       "      <th>indice</th>\n",
       "      <th></th>\n",
       "      <th></th>\n",
       "    </tr>\n",
       "  </thead>\n",
       "  <tbody>\n",
       "    <tr>\n",
       "      <th>3d-1d-</th>\n",
       "      <td>1.935560</td>\n",
       "      <td>0.223689</td>\n",
       "    </tr>\n",
       "    <tr>\n",
       "      <th>4d-1d-</th>\n",
       "      <td>1.966513</td>\n",
       "      <td>0.226395</td>\n",
       "    </tr>\n",
       "    <tr>\n",
       "      <th>5d-1d-</th>\n",
       "      <td>2.085506</td>\n",
       "      <td>0.124270</td>\n",
       "    </tr>\n",
       "  </tbody>\n",
       "</table>\n",
       "</div>"
      ],
      "text/plain": [
       "            Mean  Standard Dev\n",
       "indice                        \n",
       "3d-1d-  1.935560      0.223689\n",
       "4d-1d-  1.966513      0.226395\n",
       "5d-1d-  2.085506      0.124270"
      ]
     },
     "execution_count": 47,
     "metadata": {},
     "output_type": "execute_result"
    }
   ],
   "source": [
    "randomfores_V2(data_LosLeones,data_LosLeones)"
   ]
  },
  {
   "cell_type": "code",
   "execution_count": 48,
   "metadata": {},
   "outputs": [
    {
     "data": {
      "text/html": [
       "<div>\n",
       "<style>\n",
       "    .dataframe thead tr:only-child th {\n",
       "        text-align: right;\n",
       "    }\n",
       "\n",
       "    .dataframe thead th {\n",
       "        text-align: left;\n",
       "    }\n",
       "\n",
       "    .dataframe tbody tr th {\n",
       "        vertical-align: top;\n",
       "    }\n",
       "</style>\n",
       "<table border=\"1\" class=\"dataframe\">\n",
       "  <thead>\n",
       "    <tr style=\"text-align: right;\">\n",
       "      <th></th>\n",
       "      <th>Mean</th>\n",
       "      <th>Standard Dev</th>\n",
       "    </tr>\n",
       "    <tr>\n",
       "      <th>indice</th>\n",
       "      <th></th>\n",
       "      <th></th>\n",
       "    </tr>\n",
       "  </thead>\n",
       "  <tbody>\n",
       "    <tr>\n",
       "      <th>3d-1d-</th>\n",
       "      <td>1.667801</td>\n",
       "      <td>0.508189</td>\n",
       "    </tr>\n",
       "    <tr>\n",
       "      <th>4d-1d-</th>\n",
       "      <td>1.935472</td>\n",
       "      <td>0.547629</td>\n",
       "    </tr>\n",
       "    <tr>\n",
       "      <th>5d-1d-</th>\n",
       "      <td>1.722730</td>\n",
       "      <td>0.202963</td>\n",
       "    </tr>\n",
       "  </tbody>\n",
       "</table>\n",
       "</div>"
      ],
      "text/plain": [
       "            Mean  Standard Dev\n",
       "indice                        \n",
       "3d-1d-  1.667801      0.508189\n",
       "4d-1d-  1.935472      0.547629\n",
       "5d-1d-  1.722730      0.202963"
      ]
     },
     "execution_count": 48,
     "metadata": {},
     "output_type": "execute_result"
    }
   ],
   "source": [
    "randomfores_V2(data_LosLeones,data_LosMorados)"
   ]
  },
  {
   "cell_type": "code",
   "execution_count": 49,
   "metadata": {
    "scrolled": true
   },
   "outputs": [
    {
     "data": {
      "text/html": [
       "<div>\n",
       "<style>\n",
       "    .dataframe thead tr:only-child th {\n",
       "        text-align: right;\n",
       "    }\n",
       "\n",
       "    .dataframe thead th {\n",
       "        text-align: left;\n",
       "    }\n",
       "\n",
       "    .dataframe tbody tr th {\n",
       "        vertical-align: top;\n",
       "    }\n",
       "</style>\n",
       "<table border=\"1\" class=\"dataframe\">\n",
       "  <thead>\n",
       "    <tr style=\"text-align: right;\">\n",
       "      <th></th>\n",
       "      <th>Mean</th>\n",
       "      <th>Standard Dev</th>\n",
       "    </tr>\n",
       "    <tr>\n",
       "      <th>indice</th>\n",
       "      <th></th>\n",
       "      <th></th>\n",
       "    </tr>\n",
       "  </thead>\n",
       "  <tbody>\n",
       "    <tr>\n",
       "      <th>3d-1d-</th>\n",
       "      <td>2.115168</td>\n",
       "      <td>0.480906</td>\n",
       "    </tr>\n",
       "    <tr>\n",
       "      <th>4d-1d-</th>\n",
       "      <td>1.625603</td>\n",
       "      <td>0.607050</td>\n",
       "    </tr>\n",
       "    <tr>\n",
       "      <th>5d-1d-</th>\n",
       "      <td>1.728359</td>\n",
       "      <td>0.545118</td>\n",
       "    </tr>\n",
       "  </tbody>\n",
       "</table>\n",
       "</div>"
      ],
      "text/plain": [
       "            Mean  Standard Dev\n",
       "indice                        \n",
       "3d-1d-  2.115168      0.480906\n",
       "4d-1d-  1.625603      0.607050\n",
       "5d-1d-  1.728359      0.545118"
      ]
     },
     "execution_count": 49,
     "metadata": {},
     "output_type": "execute_result"
    }
   ],
   "source": [
    "randomfores_V2(data_LosLeones,data_LomaAmarilla)"
   ]
  },
  {
   "cell_type": "code",
   "execution_count": 50,
   "metadata": {
    "scrolled": true
   },
   "outputs": [
    {
     "data": {
      "text/html": [
       "<div>\n",
       "<style>\n",
       "    .dataframe thead tr:only-child th {\n",
       "        text-align: right;\n",
       "    }\n",
       "\n",
       "    .dataframe thead th {\n",
       "        text-align: left;\n",
       "    }\n",
       "\n",
       "    .dataframe tbody tr th {\n",
       "        vertical-align: top;\n",
       "    }\n",
       "</style>\n",
       "<table border=\"1\" class=\"dataframe\">\n",
       "  <thead>\n",
       "    <tr style=\"text-align: right;\">\n",
       "      <th></th>\n",
       "      <th>Mean</th>\n",
       "      <th>Standard Dev</th>\n",
       "    </tr>\n",
       "    <tr>\n",
       "      <th>indice</th>\n",
       "      <th></th>\n",
       "      <th></th>\n",
       "    </tr>\n",
       "  </thead>\n",
       "  <tbody>\n",
       "    <tr>\n",
       "      <th>3d-1d-</th>\n",
       "      <td>2.714011</td>\n",
       "      <td>0.695598</td>\n",
       "    </tr>\n",
       "    <tr>\n",
       "      <th>4d-1d-</th>\n",
       "      <td>3.283227</td>\n",
       "      <td>0.788488</td>\n",
       "    </tr>\n",
       "    <tr>\n",
       "      <th>5d-1d-</th>\n",
       "      <td>2.672552</td>\n",
       "      <td>0.576803</td>\n",
       "    </tr>\n",
       "  </tbody>\n",
       "</table>\n",
       "</div>"
      ],
      "text/plain": [
       "            Mean  Standard Dev\n",
       "indice                        \n",
       "3d-1d-  2.714011      0.695598\n",
       "4d-1d-  3.283227      0.788488\n",
       "5d-1d-  2.672552      0.576803"
      ]
     },
     "execution_count": 50,
     "metadata": {},
     "output_type": "execute_result"
    }
   ],
   "source": [
    "randomfores_V2(data_LosLeones, data_Coihueco)"
   ]
  },
  {
   "cell_type": "markdown",
   "metadata": {},
   "source": [
    "## **Morados vs ** **"
   ]
  },
  {
   "cell_type": "code",
   "execution_count": 51,
   "metadata": {},
   "outputs": [
    {
     "data": {
      "text/html": [
       "<div>\n",
       "<style>\n",
       "    .dataframe thead tr:only-child th {\n",
       "        text-align: right;\n",
       "    }\n",
       "\n",
       "    .dataframe thead th {\n",
       "        text-align: left;\n",
       "    }\n",
       "\n",
       "    .dataframe tbody tr th {\n",
       "        vertical-align: top;\n",
       "    }\n",
       "</style>\n",
       "<table border=\"1\" class=\"dataframe\">\n",
       "  <thead>\n",
       "    <tr style=\"text-align: right;\">\n",
       "      <th></th>\n",
       "      <th>Mean</th>\n",
       "      <th>Standard Dev</th>\n",
       "    </tr>\n",
       "    <tr>\n",
       "      <th>indice</th>\n",
       "      <th></th>\n",
       "      <th></th>\n",
       "    </tr>\n",
       "  </thead>\n",
       "  <tbody>\n",
       "    <tr>\n",
       "      <th>3d-1d-</th>\n",
       "      <td>1.542575</td>\n",
       "      <td>0.547677</td>\n",
       "    </tr>\n",
       "    <tr>\n",
       "      <th>4d-1d-</th>\n",
       "      <td>1.897941</td>\n",
       "      <td>0.634747</td>\n",
       "    </tr>\n",
       "    <tr>\n",
       "      <th>5d-1d-</th>\n",
       "      <td>1.744909</td>\n",
       "      <td>0.466809</td>\n",
       "    </tr>\n",
       "  </tbody>\n",
       "</table>\n",
       "</div>"
      ],
      "text/plain": [
       "            Mean  Standard Dev\n",
       "indice                        \n",
       "3d-1d-  1.542575      0.547677\n",
       "4d-1d-  1.897941      0.634747\n",
       "5d-1d-  1.744909      0.466809"
      ]
     },
     "execution_count": 51,
     "metadata": {},
     "output_type": "execute_result"
    }
   ],
   "source": [
    "randomfores_V2(data_LosMorados,data_LosLeones)"
   ]
  },
  {
   "cell_type": "code",
   "execution_count": 52,
   "metadata": {},
   "outputs": [
    {
     "data": {
      "text/html": [
       "<div>\n",
       "<style>\n",
       "    .dataframe thead tr:only-child th {\n",
       "        text-align: right;\n",
       "    }\n",
       "\n",
       "    .dataframe thead th {\n",
       "        text-align: left;\n",
       "    }\n",
       "\n",
       "    .dataframe tbody tr th {\n",
       "        vertical-align: top;\n",
       "    }\n",
       "</style>\n",
       "<table border=\"1\" class=\"dataframe\">\n",
       "  <thead>\n",
       "    <tr style=\"text-align: right;\">\n",
       "      <th></th>\n",
       "      <th>Mean</th>\n",
       "      <th>Standard Dev</th>\n",
       "    </tr>\n",
       "    <tr>\n",
       "      <th>indice</th>\n",
       "      <th></th>\n",
       "      <th></th>\n",
       "    </tr>\n",
       "  </thead>\n",
       "  <tbody>\n",
       "    <tr>\n",
       "      <th>3d-1d-</th>\n",
       "      <td>1.435228</td>\n",
       "      <td>0.607757</td>\n",
       "    </tr>\n",
       "    <tr>\n",
       "      <th>4d-1d-</th>\n",
       "      <td>1.316338</td>\n",
       "      <td>0.348027</td>\n",
       "    </tr>\n",
       "    <tr>\n",
       "      <th>5d-1d-</th>\n",
       "      <td>1.145396</td>\n",
       "      <td>0.299170</td>\n",
       "    </tr>\n",
       "  </tbody>\n",
       "</table>\n",
       "</div>"
      ],
      "text/plain": [
       "            Mean  Standard Dev\n",
       "indice                        \n",
       "3d-1d-  1.435228      0.607757\n",
       "4d-1d-  1.316338      0.348027\n",
       "5d-1d-  1.145396      0.299170"
      ]
     },
     "execution_count": 52,
     "metadata": {},
     "output_type": "execute_result"
    }
   ],
   "source": [
    "randomfores_V2(data_LosMorados, data_LosMorados)"
   ]
  },
  {
   "cell_type": "code",
   "execution_count": 53,
   "metadata": {
    "scrolled": true
   },
   "outputs": [
    {
     "data": {
      "text/html": [
       "<div>\n",
       "<style>\n",
       "    .dataframe thead tr:only-child th {\n",
       "        text-align: right;\n",
       "    }\n",
       "\n",
       "    .dataframe thead th {\n",
       "        text-align: left;\n",
       "    }\n",
       "\n",
       "    .dataframe tbody tr th {\n",
       "        vertical-align: top;\n",
       "    }\n",
       "</style>\n",
       "<table border=\"1\" class=\"dataframe\">\n",
       "  <thead>\n",
       "    <tr style=\"text-align: right;\">\n",
       "      <th></th>\n",
       "      <th>Mean</th>\n",
       "      <th>Standard Dev</th>\n",
       "    </tr>\n",
       "    <tr>\n",
       "      <th>indice</th>\n",
       "      <th></th>\n",
       "      <th></th>\n",
       "    </tr>\n",
       "  </thead>\n",
       "  <tbody>\n",
       "    <tr>\n",
       "      <th>3d-1d-</th>\n",
       "      <td>1.743053</td>\n",
       "      <td>0.679096</td>\n",
       "    </tr>\n",
       "    <tr>\n",
       "      <th>4d-1d-</th>\n",
       "      <td>1.631200</td>\n",
       "      <td>0.722044</td>\n",
       "    </tr>\n",
       "    <tr>\n",
       "      <th>5d-1d-</th>\n",
       "      <td>1.413860</td>\n",
       "      <td>0.786007</td>\n",
       "    </tr>\n",
       "  </tbody>\n",
       "</table>\n",
       "</div>"
      ],
      "text/plain": [
       "            Mean  Standard Dev\n",
       "indice                        \n",
       "3d-1d-  1.743053      0.679096\n",
       "4d-1d-  1.631200      0.722044\n",
       "5d-1d-  1.413860      0.786007"
      ]
     },
     "execution_count": 53,
     "metadata": {},
     "output_type": "execute_result"
    }
   ],
   "source": [
    "randomfores_V2(data_LosMorados, data_LomaAmarilla)"
   ]
  },
  {
   "cell_type": "code",
   "execution_count": 54,
   "metadata": {
    "scrolled": true
   },
   "outputs": [
    {
     "data": {
      "text/html": [
       "<div>\n",
       "<style>\n",
       "    .dataframe thead tr:only-child th {\n",
       "        text-align: right;\n",
       "    }\n",
       "\n",
       "    .dataframe thead th {\n",
       "        text-align: left;\n",
       "    }\n",
       "\n",
       "    .dataframe tbody tr th {\n",
       "        vertical-align: top;\n",
       "    }\n",
       "</style>\n",
       "<table border=\"1\" class=\"dataframe\">\n",
       "  <thead>\n",
       "    <tr style=\"text-align: right;\">\n",
       "      <th></th>\n",
       "      <th>Mean</th>\n",
       "      <th>Standard Dev</th>\n",
       "    </tr>\n",
       "    <tr>\n",
       "      <th>indice</th>\n",
       "      <th></th>\n",
       "      <th></th>\n",
       "    </tr>\n",
       "  </thead>\n",
       "  <tbody>\n",
       "    <tr>\n",
       "      <th>3d-1d-</th>\n",
       "      <td>2.369624</td>\n",
       "      <td>0.781275</td>\n",
       "    </tr>\n",
       "    <tr>\n",
       "      <th>4d-1d-</th>\n",
       "      <td>2.740886</td>\n",
       "      <td>1.153676</td>\n",
       "    </tr>\n",
       "    <tr>\n",
       "      <th>5d-1d-</th>\n",
       "      <td>2.700126</td>\n",
       "      <td>0.870468</td>\n",
       "    </tr>\n",
       "  </tbody>\n",
       "</table>\n",
       "</div>"
      ],
      "text/plain": [
       "            Mean  Standard Dev\n",
       "indice                        \n",
       "3d-1d-  2.369624      0.781275\n",
       "4d-1d-  2.740886      1.153676\n",
       "5d-1d-  2.700126      0.870468"
      ]
     },
     "execution_count": 54,
     "metadata": {},
     "output_type": "execute_result"
    }
   ],
   "source": [
    "randomfores_V2(data_LosMorados, data_Coihueco)"
   ]
  },
  {
   "cell_type": "markdown",
   "metadata": {},
   "source": [
    "## **Loma Amarilla vs ** **"
   ]
  },
  {
   "cell_type": "code",
   "execution_count": 56,
   "metadata": {},
   "outputs": [
    {
     "data": {
      "text/html": [
       "<div>\n",
       "<style>\n",
       "    .dataframe thead tr:only-child th {\n",
       "        text-align: right;\n",
       "    }\n",
       "\n",
       "    .dataframe thead th {\n",
       "        text-align: left;\n",
       "    }\n",
       "\n",
       "    .dataframe tbody tr th {\n",
       "        vertical-align: top;\n",
       "    }\n",
       "</style>\n",
       "<table border=\"1\" class=\"dataframe\">\n",
       "  <thead>\n",
       "    <tr style=\"text-align: right;\">\n",
       "      <th></th>\n",
       "      <th>Mean</th>\n",
       "      <th>Standard Dev</th>\n",
       "    </tr>\n",
       "    <tr>\n",
       "      <th>indice</th>\n",
       "      <th></th>\n",
       "      <th></th>\n",
       "    </tr>\n",
       "  </thead>\n",
       "  <tbody>\n",
       "    <tr>\n",
       "      <th>3d-1d-</th>\n",
       "      <td>1.450307</td>\n",
       "      <td>0.413860</td>\n",
       "    </tr>\n",
       "    <tr>\n",
       "      <th>4d-1d-</th>\n",
       "      <td>1.426639</td>\n",
       "      <td>0.344740</td>\n",
       "    </tr>\n",
       "    <tr>\n",
       "      <th>5d-1d-</th>\n",
       "      <td>1.463558</td>\n",
       "      <td>0.295048</td>\n",
       "    </tr>\n",
       "  </tbody>\n",
       "</table>\n",
       "</div>"
      ],
      "text/plain": [
       "            Mean  Standard Dev\n",
       "indice                        \n",
       "3d-1d-  1.450307      0.413860\n",
       "4d-1d-  1.426639      0.344740\n",
       "5d-1d-  1.463558      0.295048"
      ]
     },
     "execution_count": 56,
     "metadata": {},
     "output_type": "execute_result"
    }
   ],
   "source": [
    "randomfores_V2(data_LomaAmarilla, data_LomaAmarilla)"
   ]
  },
  {
   "cell_type": "code",
   "execution_count": 58,
   "metadata": {},
   "outputs": [
    {
     "data": {
      "text/html": [
       "<div>\n",
       "<style>\n",
       "    .dataframe thead tr:only-child th {\n",
       "        text-align: right;\n",
       "    }\n",
       "\n",
       "    .dataframe thead th {\n",
       "        text-align: left;\n",
       "    }\n",
       "\n",
       "    .dataframe tbody tr th {\n",
       "        vertical-align: top;\n",
       "    }\n",
       "</style>\n",
       "<table border=\"1\" class=\"dataframe\">\n",
       "  <thead>\n",
       "    <tr style=\"text-align: right;\">\n",
       "      <th></th>\n",
       "      <th>Mean</th>\n",
       "      <th>Standard Dev</th>\n",
       "    </tr>\n",
       "    <tr>\n",
       "      <th>indice</th>\n",
       "      <th></th>\n",
       "      <th></th>\n",
       "    </tr>\n",
       "  </thead>\n",
       "  <tbody>\n",
       "    <tr>\n",
       "      <th>3d-1d-</th>\n",
       "      <td>3.345584</td>\n",
       "      <td>1.449362</td>\n",
       "    </tr>\n",
       "    <tr>\n",
       "      <th>4d-1d-</th>\n",
       "      <td>4.044743</td>\n",
       "      <td>1.149219</td>\n",
       "    </tr>\n",
       "    <tr>\n",
       "      <th>5d-1d-</th>\n",
       "      <td>3.953463</td>\n",
       "      <td>1.376610</td>\n",
       "    </tr>\n",
       "  </tbody>\n",
       "</table>\n",
       "</div>"
      ],
      "text/plain": [
       "            Mean  Standard Dev\n",
       "indice                        \n",
       "3d-1d-  3.345584      1.449362\n",
       "4d-1d-  4.044743      1.149219\n",
       "5d-1d-  3.953463      1.376610"
      ]
     },
     "execution_count": 58,
     "metadata": {},
     "output_type": "execute_result"
    }
   ],
   "source": [
    "randomfores_V2(data_LomaAmarilla, data_LosLeones)"
   ]
  },
  {
   "cell_type": "code",
   "execution_count": 59,
   "metadata": {},
   "outputs": [
    {
     "data": {
      "text/html": [
       "<div>\n",
       "<style>\n",
       "    .dataframe thead tr:only-child th {\n",
       "        text-align: right;\n",
       "    }\n",
       "\n",
       "    .dataframe thead th {\n",
       "        text-align: left;\n",
       "    }\n",
       "\n",
       "    .dataframe tbody tr th {\n",
       "        vertical-align: top;\n",
       "    }\n",
       "</style>\n",
       "<table border=\"1\" class=\"dataframe\">\n",
       "  <thead>\n",
       "    <tr style=\"text-align: right;\">\n",
       "      <th></th>\n",
       "      <th>Mean</th>\n",
       "      <th>Standard Dev</th>\n",
       "    </tr>\n",
       "    <tr>\n",
       "      <th>indice</th>\n",
       "      <th></th>\n",
       "      <th></th>\n",
       "    </tr>\n",
       "  </thead>\n",
       "  <tbody>\n",
       "    <tr>\n",
       "      <th>3d-1d-</th>\n",
       "      <td>4.266592</td>\n",
       "      <td>0.989172</td>\n",
       "    </tr>\n",
       "    <tr>\n",
       "      <th>4d-1d-</th>\n",
       "      <td>4.712075</td>\n",
       "      <td>1.275484</td>\n",
       "    </tr>\n",
       "    <tr>\n",
       "      <th>5d-1d-</th>\n",
       "      <td>4.770388</td>\n",
       "      <td>1.165510</td>\n",
       "    </tr>\n",
       "  </tbody>\n",
       "</table>\n",
       "</div>"
      ],
      "text/plain": [
       "            Mean  Standard Dev\n",
       "indice                        \n",
       "3d-1d-  4.266592      0.989172\n",
       "4d-1d-  4.712075      1.275484\n",
       "5d-1d-  4.770388      1.165510"
      ]
     },
     "execution_count": 59,
     "metadata": {},
     "output_type": "execute_result"
    }
   ],
   "source": [
    "randomfores_V2(data_LomaAmarilla,data_LosMorados)"
   ]
  },
  {
   "cell_type": "code",
   "execution_count": 55,
   "metadata": {
    "scrolled": true
   },
   "outputs": [
    {
     "data": {
      "text/html": [
       "<div>\n",
       "<style>\n",
       "    .dataframe thead tr:only-child th {\n",
       "        text-align: right;\n",
       "    }\n",
       "\n",
       "    .dataframe thead th {\n",
       "        text-align: left;\n",
       "    }\n",
       "\n",
       "    .dataframe tbody tr th {\n",
       "        vertical-align: top;\n",
       "    }\n",
       "</style>\n",
       "<table border=\"1\" class=\"dataframe\">\n",
       "  <thead>\n",
       "    <tr style=\"text-align: right;\">\n",
       "      <th></th>\n",
       "      <th>Mean</th>\n",
       "      <th>Standard Dev</th>\n",
       "    </tr>\n",
       "    <tr>\n",
       "      <th>indice</th>\n",
       "      <th></th>\n",
       "      <th></th>\n",
       "    </tr>\n",
       "  </thead>\n",
       "  <tbody>\n",
       "    <tr>\n",
       "      <th>3d-1d-</th>\n",
       "      <td>4.242064</td>\n",
       "      <td>2.100997</td>\n",
       "    </tr>\n",
       "    <tr>\n",
       "      <th>4d-1d-</th>\n",
       "      <td>4.816208</td>\n",
       "      <td>2.215689</td>\n",
       "    </tr>\n",
       "    <tr>\n",
       "      <th>5d-1d-</th>\n",
       "      <td>5.606020</td>\n",
       "      <td>1.868581</td>\n",
       "    </tr>\n",
       "  </tbody>\n",
       "</table>\n",
       "</div>"
      ],
      "text/plain": [
       "            Mean  Standard Dev\n",
       "indice                        \n",
       "3d-1d-  4.242064      2.100997\n",
       "4d-1d-  4.816208      2.215689\n",
       "5d-1d-  5.606020      1.868581"
      ]
     },
     "execution_count": 55,
     "metadata": {},
     "output_type": "execute_result"
    }
   ],
   "source": [
    "randomfores_V2(data_LomaAmarilla, data_Coihueco)"
   ]
  },
  {
   "cell_type": "markdown",
   "metadata": {},
   "source": [
    "## **Coihueco vs ** **"
   ]
  },
  {
   "cell_type": "code",
   "execution_count": 61,
   "metadata": {},
   "outputs": [
    {
     "data": {
      "text/html": [
       "<div>\n",
       "<style>\n",
       "    .dataframe thead tr:only-child th {\n",
       "        text-align: right;\n",
       "    }\n",
       "\n",
       "    .dataframe thead th {\n",
       "        text-align: left;\n",
       "    }\n",
       "\n",
       "    .dataframe tbody tr th {\n",
       "        vertical-align: top;\n",
       "    }\n",
       "</style>\n",
       "<table border=\"1\" class=\"dataframe\">\n",
       "  <thead>\n",
       "    <tr style=\"text-align: right;\">\n",
       "      <th></th>\n",
       "      <th>Mean</th>\n",
       "      <th>Standard Dev</th>\n",
       "    </tr>\n",
       "    <tr>\n",
       "      <th>indice</th>\n",
       "      <th></th>\n",
       "      <th></th>\n",
       "    </tr>\n",
       "  </thead>\n",
       "  <tbody>\n",
       "    <tr>\n",
       "      <th>3d-1d-</th>\n",
       "      <td>2.297306</td>\n",
       "      <td>0.756442</td>\n",
       "    </tr>\n",
       "    <tr>\n",
       "      <th>4d-1d-</th>\n",
       "      <td>1.929945</td>\n",
       "      <td>0.701123</td>\n",
       "    </tr>\n",
       "    <tr>\n",
       "      <th>5d-1d-</th>\n",
       "      <td>1.767409</td>\n",
       "      <td>0.967615</td>\n",
       "    </tr>\n",
       "  </tbody>\n",
       "</table>\n",
       "</div>"
      ],
      "text/plain": [
       "            Mean  Standard Dev\n",
       "indice                        \n",
       "3d-1d-  2.297306      0.756442\n",
       "4d-1d-  1.929945      0.701123\n",
       "5d-1d-  1.767409      0.967615"
      ]
     },
     "execution_count": 61,
     "metadata": {},
     "output_type": "execute_result"
    }
   ],
   "source": [
    "randomfores_V2(data_Coihueco,data_LosLeones )"
   ]
  },
  {
   "cell_type": "code",
   "execution_count": 62,
   "metadata": {},
   "outputs": [
    {
     "data": {
      "text/html": [
       "<div>\n",
       "<style>\n",
       "    .dataframe thead tr:only-child th {\n",
       "        text-align: right;\n",
       "    }\n",
       "\n",
       "    .dataframe thead th {\n",
       "        text-align: left;\n",
       "    }\n",
       "\n",
       "    .dataframe tbody tr th {\n",
       "        vertical-align: top;\n",
       "    }\n",
       "</style>\n",
       "<table border=\"1\" class=\"dataframe\">\n",
       "  <thead>\n",
       "    <tr style=\"text-align: right;\">\n",
       "      <th></th>\n",
       "      <th>Mean</th>\n",
       "      <th>Standard Dev</th>\n",
       "    </tr>\n",
       "    <tr>\n",
       "      <th>indice</th>\n",
       "      <th></th>\n",
       "      <th></th>\n",
       "    </tr>\n",
       "  </thead>\n",
       "  <tbody>\n",
       "    <tr>\n",
       "      <th>3d-1d-</th>\n",
       "      <td>1.839974</td>\n",
       "      <td>0.685735</td>\n",
       "    </tr>\n",
       "    <tr>\n",
       "      <th>4d-1d-</th>\n",
       "      <td>1.993944</td>\n",
       "      <td>0.847056</td>\n",
       "    </tr>\n",
       "    <tr>\n",
       "      <th>5d-1d-</th>\n",
       "      <td>2.416788</td>\n",
       "      <td>0.479860</td>\n",
       "    </tr>\n",
       "  </tbody>\n",
       "</table>\n",
       "</div>"
      ],
      "text/plain": [
       "            Mean  Standard Dev\n",
       "indice                        \n",
       "3d-1d-  1.839974      0.685735\n",
       "4d-1d-  1.993944      0.847056\n",
       "5d-1d-  2.416788      0.479860"
      ]
     },
     "execution_count": 62,
     "metadata": {},
     "output_type": "execute_result"
    }
   ],
   "source": [
    "randomfores_V2(data_Coihueco,data_LosMorados )"
   ]
  },
  {
   "cell_type": "code",
   "execution_count": 60,
   "metadata": {},
   "outputs": [
    {
     "data": {
      "text/html": [
       "<div>\n",
       "<style>\n",
       "    .dataframe thead tr:only-child th {\n",
       "        text-align: right;\n",
       "    }\n",
       "\n",
       "    .dataframe thead th {\n",
       "        text-align: left;\n",
       "    }\n",
       "\n",
       "    .dataframe tbody tr th {\n",
       "        vertical-align: top;\n",
       "    }\n",
       "</style>\n",
       "<table border=\"1\" class=\"dataframe\">\n",
       "  <thead>\n",
       "    <tr style=\"text-align: right;\">\n",
       "      <th></th>\n",
       "      <th>Mean</th>\n",
       "      <th>Standard Dev</th>\n",
       "    </tr>\n",
       "    <tr>\n",
       "      <th>indice</th>\n",
       "      <th></th>\n",
       "      <th></th>\n",
       "    </tr>\n",
       "  </thead>\n",
       "  <tbody>\n",
       "    <tr>\n",
       "      <th>3d-1d-</th>\n",
       "      <td>2.568899</td>\n",
       "      <td>0.832384</td>\n",
       "    </tr>\n",
       "    <tr>\n",
       "      <th>4d-1d-</th>\n",
       "      <td>2.132666</td>\n",
       "      <td>1.021654</td>\n",
       "    </tr>\n",
       "    <tr>\n",
       "      <th>5d-1d-</th>\n",
       "      <td>2.139153</td>\n",
       "      <td>1.202843</td>\n",
       "    </tr>\n",
       "  </tbody>\n",
       "</table>\n",
       "</div>"
      ],
      "text/plain": [
       "            Mean  Standard Dev\n",
       "indice                        \n",
       "3d-1d-  2.568899      0.832384\n",
       "4d-1d-  2.132666      1.021654\n",
       "5d-1d-  2.139153      1.202843"
      ]
     },
     "execution_count": 60,
     "metadata": {},
     "output_type": "execute_result"
    }
   ],
   "source": [
    "randomfores_V2(data_Coihueco,data_LomaAmarilla )"
   ]
  },
  {
   "cell_type": "code",
   "execution_count": 63,
   "metadata": {},
   "outputs": [
    {
     "data": {
      "text/html": [
       "<div>\n",
       "<style>\n",
       "    .dataframe thead tr:only-child th {\n",
       "        text-align: right;\n",
       "    }\n",
       "\n",
       "    .dataframe thead th {\n",
       "        text-align: left;\n",
       "    }\n",
       "\n",
       "    .dataframe tbody tr th {\n",
       "        vertical-align: top;\n",
       "    }\n",
       "</style>\n",
       "<table border=\"1\" class=\"dataframe\">\n",
       "  <thead>\n",
       "    <tr style=\"text-align: right;\">\n",
       "      <th></th>\n",
       "      <th>Mean</th>\n",
       "      <th>Standard Dev</th>\n",
       "    </tr>\n",
       "    <tr>\n",
       "      <th>indice</th>\n",
       "      <th></th>\n",
       "      <th></th>\n",
       "    </tr>\n",
       "  </thead>\n",
       "  <tbody>\n",
       "    <tr>\n",
       "      <th>3d-1d-</th>\n",
       "      <td>2.368125</td>\n",
       "      <td>0.616959</td>\n",
       "    </tr>\n",
       "    <tr>\n",
       "      <th>4d-1d-</th>\n",
       "      <td>1.980587</td>\n",
       "      <td>0.679508</td>\n",
       "    </tr>\n",
       "    <tr>\n",
       "      <th>5d-1d-</th>\n",
       "      <td>1.642147</td>\n",
       "      <td>0.667250</td>\n",
       "    </tr>\n",
       "  </tbody>\n",
       "</table>\n",
       "</div>"
      ],
      "text/plain": [
       "            Mean  Standard Dev\n",
       "indice                        \n",
       "3d-1d-  2.368125      0.616959\n",
       "4d-1d-  1.980587      0.679508\n",
       "5d-1d-  1.642147      0.667250"
      ]
     },
     "execution_count": 63,
     "metadata": {},
     "output_type": "execute_result"
    }
   ],
   "source": [
    "randomfores_V2(data_Coihueco,data_Coihueco )"
   ]
  },
  {
   "cell_type": "markdown",
   "metadata": {},
   "source": [
    "# Support vector machine"
   ]
  },
  {
   "cell_type": "code",
   "execution_count": null,
   "metadata": {
    "collapsed": true
   },
   "outputs": [],
   "source": [
    "from sklearn.svm import SVR\n"
   ]
  },
  {
   "cell_type": "code",
   "execution_count": null,
   "metadata": {
    "collapsed": true
   },
   "outputs": [],
   "source": []
  }
 ],
 "metadata": {
  "kernelspec": {
   "display_name": "Python 3",
   "language": "python",
   "name": "python3"
  },
  "language_info": {
   "codemirror_mode": {
    "name": "ipython",
    "version": 3
   },
   "file_extension": ".py",
   "mimetype": "text/x-python",
   "name": "python",
   "nbconvert_exporter": "python",
   "pygments_lexer": "ipython3",
   "version": "3.6.3"
  }
 },
 "nbformat": 4,
 "nbformat_minor": 2
}
